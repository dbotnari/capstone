{
 "cells": [
  {
   "cell_type": "code",
   "execution_count": 0,
   "metadata": {
    "colab": {},
    "colab_type": "code",
    "id": "ghdpaIwyO8lk"
   },
   "outputs": [],
   "source": [
    "import numpy as np\n",
    "import pandas as pd\n",
    "%matplotlib inline\n",
    "import matplotlib.pyplot as plt"
   ]
  },
  {
   "cell_type": "code",
   "execution_count": 2,
   "metadata": {
    "colab": {
     "base_uri": "https://localhost:8080/",
     "height": 338
    },
    "colab_type": "code",
    "executionInfo": {
     "elapsed": 1464,
     "status": "ok",
     "timestamp": 1587797898309,
     "user": {
      "displayName": "Dumitru Botnari",
      "photoUrl": "",
      "userId": "11679187678651940095"
     },
     "user_tz": 240
    },
    "id": "jczVEZLKCCqD",
    "outputId": "1f116fd6-12d7-46f1-88f4-c430edef14db"
   },
   "outputs": [
    {
     "name": "stdout",
     "output_type": "stream",
     "text": [
      "--2020-04-25 06:58:17--  https://docs.google.com/uc?export=download&id=1hiNv1Tvp_RnKK-UBpa1yd4rai337Fs-4\n",
      "Resolving docs.google.com (docs.google.com)... 172.217.15.78, 2607:f8b0:4004:804::200e\n",
      "Connecting to docs.google.com (docs.google.com)|172.217.15.78|:443... connected.\n",
      "HTTP request sent, awaiting response... 302 Moved Temporarily\n",
      "Location: https://doc-00-30-docs.googleusercontent.com/docs/securesc/ha0ro937gcuc7l7deffksulhg5h7mbp1/m6g5vag81evpofhjq4ef22094o535871/1587797850000/11679187678651940095/*/1hiNv1Tvp_RnKK-UBpa1yd4rai337Fs-4?e=download [following]\n",
      "Warning: wildcards not supported in HTTP.\n",
      "--2020-04-25 06:58:17--  https://doc-00-30-docs.googleusercontent.com/docs/securesc/ha0ro937gcuc7l7deffksulhg5h7mbp1/m6g5vag81evpofhjq4ef22094o535871/1587797850000/11679187678651940095/*/1hiNv1Tvp_RnKK-UBpa1yd4rai337Fs-4?e=download\n",
      "Resolving doc-00-30-docs.googleusercontent.com (doc-00-30-docs.googleusercontent.com)... 172.217.5.225, 2607:f8b0:4004:804::2001\n",
      "Connecting to doc-00-30-docs.googleusercontent.com (doc-00-30-docs.googleusercontent.com)|172.217.5.225|:443... connected.\n",
      "HTTP request sent, awaiting response... 200 OK\n",
      "Length: 386428 (377K) [text/csv]\n",
      "Saving to: ‘5-global.csv’\n",
      "\n",
      "5-global.csv        100%[===================>] 377.37K  --.-KB/s    in 0.04s   \n",
      "\n",
      "2020-04-25 06:58:17 (10.4 MB/s) - ‘5-global.csv’ saved [386428/386428]\n",
      "\n"
     ]
    }
   ],
   "source": [
    "!wget --no-check-certificate 'https://docs.google.com/uc?export=download&id=1hiNv1Tvp_RnKK-UBpa1yd4rai337Fs-4' -O '5-global.csv'"
   ]
  },
  {
   "cell_type": "code",
   "execution_count": 0,
   "metadata": {
    "colab": {},
    "colab_type": "code",
    "id": "tmh2ZeQHO8lm"
   },
   "outputs": [],
   "source": [
    "df = pd.read_csv('./5-global.csv')"
   ]
  },
  {
   "cell_type": "code",
   "execution_count": 4,
   "metadata": {
    "colab": {
     "base_uri": "https://localhost:8080/",
     "height": 217
    },
    "colab_type": "code",
    "executionInfo": {
     "elapsed": 430,
     "status": "ok",
     "timestamp": 1587797904273,
     "user": {
      "displayName": "Dumitru Botnari",
      "photoUrl": "",
      "userId": "11679187678651940095"
     },
     "user_tz": 240
    },
    "id": "0nFepZC0O8lo",
    "outputId": "0ddec81f-5f1f-4cad-fb10-fa2708e0f1f6"
   },
   "outputs": [
    {
     "data": {
      "text/html": [
       "<div>\n",
       "<style scoped>\n",
       "    .dataframe tbody tr th:only-of-type {\n",
       "        vertical-align: middle;\n",
       "    }\n",
       "\n",
       "    .dataframe tbody tr th {\n",
       "        vertical-align: top;\n",
       "    }\n",
       "\n",
       "    .dataframe thead th {\n",
       "        text-align: right;\n",
       "    }\n",
       "</style>\n",
       "<table border=\"1\" class=\"dataframe\">\n",
       "  <thead>\n",
       "    <tr style=\"text-align: right;\">\n",
       "      <th></th>\n",
       "      <th>MAP_ID</th>\n",
       "      <th>IN_JAN</th>\n",
       "      <th>IN_FEB</th>\n",
       "      <th>IN_MAR</th>\n",
       "      <th>IN_APR</th>\n",
       "      <th>IN_MAY</th>\n",
       "      <th>IN_JUN</th>\n",
       "      <th>IN_JUL</th>\n",
       "      <th>IN_AUG</th>\n",
       "      <th>IN_SEP</th>\n",
       "      <th>IN_OCT</th>\n",
       "      <th>IN_NOV</th>\n",
       "      <th>IN_DEC</th>\n",
       "      <th>DESC_ALERT</th>\n",
       "      <th>DESC_FIRE</th>\n",
       "      <th>DESC_OTHER</th>\n",
       "      <th>DESC_NEW</th>\n",
       "      <th>NB_UNITS</th>\n",
       "      <th>Median_NrIncidentsLastWeek</th>\n",
       "      <th>Median_NrIncidentsLastMonth</th>\n",
       "      <th>Median_NrCrimesLastWeek</th>\n",
       "      <th>Median_NrCrimesLastMonth</th>\n",
       "      <th>NB_PROPERTIES</th>\n",
       "      <th>FLOORS</th>\n",
       "      <th>HOUSINGS</th>\n",
       "      <th>YEAR_CONSTRUCTION</th>\n",
       "      <th>LAND_AREA</th>\n",
       "      <th>BUILDING_AREA</th>\n",
       "      <th>USAGE_LOGEMENT</th>\n",
       "      <th>CATEGORY_REGULAR</th>\n",
       "      <th>CATEGORY_CONDOMINIUM</th>\n",
       "      <th>RISK_ZONE_ID</th>\n",
       "    </tr>\n",
       "  </thead>\n",
       "  <tbody>\n",
       "    <tr>\n",
       "      <th>0</th>\n",
       "      <td>1-10</td>\n",
       "      <td>0.0</td>\n",
       "      <td>0.0</td>\n",
       "      <td>0.0</td>\n",
       "      <td>0.0</td>\n",
       "      <td>0.0</td>\n",
       "      <td>0.0</td>\n",
       "      <td>0.0</td>\n",
       "      <td>0.0</td>\n",
       "      <td>0.0</td>\n",
       "      <td>0.0</td>\n",
       "      <td>0.0</td>\n",
       "      <td>1.0</td>\n",
       "      <td>1.0</td>\n",
       "      <td>0.0</td>\n",
       "      <td>0.0</td>\n",
       "      <td>0.0</td>\n",
       "      <td>2.0</td>\n",
       "      <td>0.0</td>\n",
       "      <td>0.0</td>\n",
       "      <td>0.0</td>\n",
       "      <td>0.0</td>\n",
       "      <td>16</td>\n",
       "      <td>2.0</td>\n",
       "      <td>1.0</td>\n",
       "      <td>1956.0</td>\n",
       "      <td>445.0</td>\n",
       "      <td>230.0</td>\n",
       "      <td>0.813</td>\n",
       "      <td>0.813</td>\n",
       "      <td>0.188</td>\n",
       "      <td>1</td>\n",
       "    </tr>\n",
       "    <tr>\n",
       "      <th>1</th>\n",
       "      <td>1-11</td>\n",
       "      <td>0.0</td>\n",
       "      <td>0.0</td>\n",
       "      <td>0.1</td>\n",
       "      <td>0.0</td>\n",
       "      <td>0.1</td>\n",
       "      <td>0.3</td>\n",
       "      <td>0.3</td>\n",
       "      <td>0.0</td>\n",
       "      <td>0.1</td>\n",
       "      <td>0.0</td>\n",
       "      <td>0.0</td>\n",
       "      <td>0.1</td>\n",
       "      <td>0.9</td>\n",
       "      <td>0.1</td>\n",
       "      <td>0.0</td>\n",
       "      <td>0.0</td>\n",
       "      <td>4.0</td>\n",
       "      <td>0.0</td>\n",
       "      <td>0.0</td>\n",
       "      <td>0.0</td>\n",
       "      <td>0.0</td>\n",
       "      <td>18</td>\n",
       "      <td>2.0</td>\n",
       "      <td>1.0</td>\n",
       "      <td>1932.5</td>\n",
       "      <td>387.5</td>\n",
       "      <td>268.0</td>\n",
       "      <td>0.833</td>\n",
       "      <td>0.667</td>\n",
       "      <td>0.333</td>\n",
       "      <td>2</td>\n",
       "    </tr>\n",
       "    <tr>\n",
       "      <th>2</th>\n",
       "      <td>10-14</td>\n",
       "      <td>0.0</td>\n",
       "      <td>0.0</td>\n",
       "      <td>0.0</td>\n",
       "      <td>0.0</td>\n",
       "      <td>0.0</td>\n",
       "      <td>0.0</td>\n",
       "      <td>0.0</td>\n",
       "      <td>0.0</td>\n",
       "      <td>0.0</td>\n",
       "      <td>0.0</td>\n",
       "      <td>0.0</td>\n",
       "      <td>0.0</td>\n",
       "      <td>0.0</td>\n",
       "      <td>0.0</td>\n",
       "      <td>0.0</td>\n",
       "      <td>0.0</td>\n",
       "      <td>0.0</td>\n",
       "      <td>0.0</td>\n",
       "      <td>0.0</td>\n",
       "      <td>0.0</td>\n",
       "      <td>0.0</td>\n",
       "      <td>19</td>\n",
       "      <td>2.0</td>\n",
       "      <td>1.0</td>\n",
       "      <td>1973.0</td>\n",
       "      <td>1413.0</td>\n",
       "      <td>188.0</td>\n",
       "      <td>1.000</td>\n",
       "      <td>1.000</td>\n",
       "      <td>0.000</td>\n",
       "      <td>1</td>\n",
       "    </tr>\n",
       "    <tr>\n",
       "      <th>3</th>\n",
       "      <td>10-15</td>\n",
       "      <td>0.5</td>\n",
       "      <td>0.0</td>\n",
       "      <td>0.0</td>\n",
       "      <td>0.0</td>\n",
       "      <td>0.5</td>\n",
       "      <td>0.0</td>\n",
       "      <td>0.0</td>\n",
       "      <td>0.0</td>\n",
       "      <td>0.0</td>\n",
       "      <td>0.0</td>\n",
       "      <td>0.0</td>\n",
       "      <td>0.0</td>\n",
       "      <td>1.0</td>\n",
       "      <td>0.0</td>\n",
       "      <td>0.0</td>\n",
       "      <td>0.0</td>\n",
       "      <td>3.5</td>\n",
       "      <td>0.0</td>\n",
       "      <td>0.0</td>\n",
       "      <td>0.0</td>\n",
       "      <td>0.0</td>\n",
       "      <td>2</td>\n",
       "      <td>1.0</td>\n",
       "      <td>1.0</td>\n",
       "      <td>1981.5</td>\n",
       "      <td>11562.5</td>\n",
       "      <td>143.5</td>\n",
       "      <td>0.500</td>\n",
       "      <td>1.000</td>\n",
       "      <td>0.000</td>\n",
       "      <td>1</td>\n",
       "    </tr>\n",
       "    <tr>\n",
       "      <th>4</th>\n",
       "      <td>10-16</td>\n",
       "      <td>0.0</td>\n",
       "      <td>0.0</td>\n",
       "      <td>0.0</td>\n",
       "      <td>0.0</td>\n",
       "      <td>0.0</td>\n",
       "      <td>0.0</td>\n",
       "      <td>1.0</td>\n",
       "      <td>0.0</td>\n",
       "      <td>0.0</td>\n",
       "      <td>0.0</td>\n",
       "      <td>0.0</td>\n",
       "      <td>0.0</td>\n",
       "      <td>0.0</td>\n",
       "      <td>0.0</td>\n",
       "      <td>1.0</td>\n",
       "      <td>0.0</td>\n",
       "      <td>1.5</td>\n",
       "      <td>0.0</td>\n",
       "      <td>0.0</td>\n",
       "      <td>0.0</td>\n",
       "      <td>0.0</td>\n",
       "      <td>2</td>\n",
       "      <td>1.0</td>\n",
       "      <td>1.0</td>\n",
       "      <td>1975.5</td>\n",
       "      <td>63457.0</td>\n",
       "      <td>5989.5</td>\n",
       "      <td>0.000</td>\n",
       "      <td>1.000</td>\n",
       "      <td>0.000</td>\n",
       "      <td>1</td>\n",
       "    </tr>\n",
       "  </tbody>\n",
       "</table>\n",
       "</div>"
      ],
      "text/plain": [
       "  MAP_ID  IN_JAN  IN_FEB  ...  CATEGORY_REGULAR  CATEGORY_CONDOMINIUM  RISK_ZONE_ID\n",
       "0   1-10     0.0     0.0  ...             0.813                 0.188             1\n",
       "1   1-11     0.0     0.0  ...             0.667                 0.333             2\n",
       "2  10-14     0.0     0.0  ...             1.000                 0.000             1\n",
       "3  10-15     0.5     0.0  ...             1.000                 0.000             1\n",
       "4  10-16     0.0     0.0  ...             1.000                 0.000             1\n",
       "\n",
       "[5 rows x 32 columns]"
      ]
     },
     "execution_count": 4,
     "metadata": {
      "tags": []
     },
     "output_type": "execute_result"
    }
   ],
   "source": [
    "df.head()"
   ]
  },
  {
   "cell_type": "code",
   "execution_count": 5,
   "metadata": {
    "colab": {
     "base_uri": "https://localhost:8080/",
     "height": 34
    },
    "colab_type": "code",
    "executionInfo": {
     "elapsed": 293,
     "status": "ok",
     "timestamp": 1587797906874,
     "user": {
      "displayName": "Dumitru Botnari",
      "photoUrl": "",
      "userId": "11679187678651940095"
     },
     "user_tz": 240
    },
    "id": "wokRIozNFkw7",
    "outputId": "72fb58cc-2ff7-4d69-d839-69c3b06c20a3"
   },
   "outputs": [
    {
     "data": {
      "text/plain": [
       "32"
      ]
     },
     "execution_count": 5,
     "metadata": {
      "tags": []
     },
     "output_type": "execute_result"
    }
   ],
   "source": [
    "df.shape[1]"
   ]
  },
  {
   "cell_type": "code",
   "execution_count": 6,
   "metadata": {
    "colab": {
     "base_uri": "https://localhost:8080/",
     "height": 34
    },
    "colab_type": "code",
    "executionInfo": {
     "elapsed": 318,
     "status": "ok",
     "timestamp": 1587797909329,
     "user": {
      "displayName": "Dumitru Botnari",
      "photoUrl": "",
      "userId": "11679187678651940095"
     },
     "user_tz": 240
    },
    "id": "fa9JIoz7FmNI",
    "outputId": "04c57182-7ce9-47cd-b331-43ee273baf35"
   },
   "outputs": [
    {
     "data": {
      "text/plain": [
       "3200"
      ]
     },
     "execution_count": 6,
     "metadata": {
      "tags": []
     },
     "output_type": "execute_result"
    }
   ],
   "source": [
    "df.shape[0]"
   ]
  },
  {
   "cell_type": "code",
   "execution_count": 7,
   "metadata": {
    "colab": {
     "base_uri": "https://localhost:8080/",
     "height": 123
    },
    "colab_type": "code",
    "executionInfo": {
     "elapsed": 294,
     "status": "ok",
     "timestamp": 1587797910378,
     "user": {
      "displayName": "Dumitru Botnari",
      "photoUrl": "",
      "userId": "11679187678651940095"
     },
     "user_tz": 240
    },
    "id": "A7vTttYzO8ls",
    "outputId": "ea0613b1-eca1-4a11-84c5-0ddf4a8b6f3f"
   },
   "outputs": [
    {
     "data": {
      "text/plain": [
       "1    1169\n",
       "3     828\n",
       "2     658\n",
       "4     495\n",
       "5      50\n",
       "Name: RISK_ZONE_ID, dtype: int64"
      ]
     },
     "execution_count": 7,
     "metadata": {
      "tags": []
     },
     "output_type": "execute_result"
    }
   ],
   "source": [
    "df['RISK_ZONE_ID'].value_counts()"
   ]
  },
  {
   "cell_type": "code",
   "execution_count": 8,
   "metadata": {
    "colab": {
     "base_uri": "https://localhost:8080/",
     "height": 34
    },
    "colab_type": "code",
    "executionInfo": {
     "elapsed": 277,
     "status": "ok",
     "timestamp": 1587797911815,
     "user": {
      "displayName": "Dumitru Botnari",
      "photoUrl": "",
      "userId": "11679187678651940095"
     },
     "user_tz": 240
    },
    "id": "Tg4GkneEISaa",
    "outputId": "3d31bcbf-af31-4d6a-f59f-6fd32784a0ef"
   },
   "outputs": [
    {
     "data": {
      "text/plain": [
       "5"
      ]
     },
     "execution_count": 8,
     "metadata": {
      "tags": []
     },
     "output_type": "execute_result"
    }
   ],
   "source": [
    "num_classes = df['RISK_ZONE_ID'].nunique()\n",
    "num_classes"
   ]
  },
  {
   "cell_type": "code",
   "execution_count": 0,
   "metadata": {
    "colab": {},
    "colab_type": "code",
    "id": "GUG-nKsADlLX"
   },
   "outputs": [],
   "source": [
    "X = df.drop(['MAP_ID', 'RISK_ZONE_ID'], axis=1).values"
   ]
  },
  {
   "cell_type": "code",
   "execution_count": 0,
   "metadata": {
    "colab": {},
    "colab_type": "code",
    "id": "wAYnjnocD3jG"
   },
   "outputs": [],
   "source": [
    "y = df.loc[:,'RISK_ZONE_ID'].values"
   ]
  },
  {
   "cell_type": "code",
   "execution_count": 0,
   "metadata": {
    "colab": {},
    "colab_type": "code",
    "id": "J_3NnFHpSzwE"
   },
   "outputs": [],
   "source": [
    "y_norm = y-1"
   ]
  },
  {
   "cell_type": "code",
   "execution_count": 0,
   "metadata": {
    "colab": {},
    "colab_type": "code",
    "id": "-AG9f2eAO8lz"
   },
   "outputs": [],
   "source": [
    "from sklearn.model_selection import train_test_split, cross_val_score\n",
    "\n",
    "from sklearn.preprocessing import scale\n",
    "X = scale(X)"
   ]
  },
  {
   "cell_type": "code",
   "execution_count": 13,
   "metadata": {
    "colab": {
     "base_uri": "https://localhost:8080/",
     "height": 34
    },
    "colab_type": "code",
    "executionInfo": {
     "elapsed": 275,
     "status": "ok",
     "timestamp": 1587797926442,
     "user": {
      "displayName": "Dumitru Botnari",
      "photoUrl": "",
      "userId": "11679187678651940095"
     },
     "user_tz": 240
    },
    "id": "7n-5hzBdaqHV",
    "outputId": "be4ce778-910c-44d9-efba-750cce87f646"
   },
   "outputs": [
    {
     "data": {
      "text/plain": [
       "(3200, 30)"
      ]
     },
     "execution_count": 13,
     "metadata": {
      "tags": []
     },
     "output_type": "execute_result"
    }
   ],
   "source": [
    "X.shape"
   ]
  },
  {
   "cell_type": "code",
   "execution_count": 0,
   "metadata": {
    "colab": {},
    "colab_type": "code",
    "id": "MKHDSYSPF0OB"
   },
   "outputs": [],
   "source": [
    "X_train, X_test, y_train, y_test = train_test_split(X,y_norm,random_state=0)"
   ]
  },
  {
   "cell_type": "code",
   "execution_count": 15,
   "metadata": {
    "colab": {
     "base_uri": "https://localhost:8080/",
     "height": 34
    },
    "colab_type": "code",
    "executionInfo": {
     "elapsed": 281,
     "status": "ok",
     "timestamp": 1587797928381,
     "user": {
      "displayName": "Dumitru Botnari",
      "photoUrl": "",
      "userId": "11679187678651940095"
     },
     "user_tz": 240
    },
    "id": "xpLTHeXAF46v",
    "outputId": "76896378-f0ef-4db0-dbaf-4ac6a00414b3"
   },
   "outputs": [
    {
     "data": {
      "text/plain": [
       "((3200, 30), (2400, 30), (800, 30), (2400,), (800,))"
      ]
     },
     "execution_count": 15,
     "metadata": {
      "tags": []
     },
     "output_type": "execute_result"
    }
   ],
   "source": [
    "X.shape, X_train.shape, X_test.shape, y_train.shape, y_test.shape"
   ]
  },
  {
   "cell_type": "code",
   "execution_count": 16,
   "metadata": {
    "colab": {
     "base_uri": "https://localhost:8080/",
     "height": 34
    },
    "colab_type": "code",
    "executionInfo": {
     "elapsed": 1560,
     "status": "ok",
     "timestamp": 1587797932123,
     "user": {
      "displayName": "Dumitru Botnari",
      "photoUrl": "",
      "userId": "11679187678651940095"
     },
     "user_tz": 240
    },
    "id": "Hg-g8kWrRVyA",
    "outputId": "56b31628-2d6b-404b-9c1d-e5ae45f04abb"
   },
   "outputs": [
    {
     "name": "stderr",
     "output_type": "stream",
     "text": [
      "Using TensorFlow backend.\n"
     ]
    }
   ],
   "source": [
    "from keras.utils import to_categorical\n",
    "\n",
    "y_train_cat = to_categorical(y_train, num_classes)\n",
    "y_test_cat = to_categorical(y_test, num_classes)"
   ]
  },
  {
   "cell_type": "code",
   "execution_count": 17,
   "metadata": {
    "colab": {
     "base_uri": "https://localhost:8080/",
     "height": 34
    },
    "colab_type": "code",
    "executionInfo": {
     "elapsed": 683,
     "status": "ok",
     "timestamp": 1587797932124,
     "user": {
      "displayName": "Dumitru Botnari",
      "photoUrl": "",
      "userId": "11679187678651940095"
     },
     "user_tz": 240
    },
    "id": "BPDyW_4JR-Tm",
    "outputId": "a1b01296-d180-426e-d4e9-d1a90c8f9385"
   },
   "outputs": [
    {
     "data": {
      "text/plain": [
       "((3200, 30), (2400, 30), (800, 30), (2400, 5), (800, 5))"
      ]
     },
     "execution_count": 17,
     "metadata": {
      "tags": []
     },
     "output_type": "execute_result"
    }
   ],
   "source": [
    "X.shape, X_train.shape, X_test.shape, y_train_cat.shape, y_test_cat.shape"
   ]
  },
  {
   "cell_type": "code",
   "execution_count": 0,
   "metadata": {
    "colab": {},
    "colab_type": "code",
    "id": "I_LGP-ScHSvq"
   },
   "outputs": [],
   "source": [
    "from keras.models import Sequential, Model\n",
    "from keras.layers import Dense, Activation, Dropout, Input\n",
    "from keras.callbacks import EarlyStopping\n",
    "from keras.optimizers import Adam, Adamax, Nadam, SGD, RMSprop, Adagrad, Adadelta\n",
    "import time\n",
    "\n",
    "inputs = Input(shape=(30,))\n",
    "\n",
    "x = Dense(512, activation='relu')(inputs)\n",
    "x = Dropout(0.5)(x)\n",
    "\n",
    "outputs = Dense(num_classes, activation='softmax')(x)\n",
    "\n",
    "func_model = Model(inputs, outputs)\n",
    "\n",
    "func_model.compile(loss='categorical_crossentropy',\n",
    "                    optimizer=Adam(lr=0.002),\n",
    "                    metrics=['accuracy'])"
   ]
  },
  {
   "cell_type": "code",
   "execution_count": 31,
   "metadata": {
    "colab": {
     "base_uri": "https://localhost:8080/",
     "height": 301
    },
    "colab_type": "code",
    "executionInfo": {
     "elapsed": 307,
     "status": "ok",
     "timestamp": 1587798071953,
     "user": {
      "displayName": "Dumitru Botnari",
      "photoUrl": "",
      "userId": "11679187678651940095"
     },
     "user_tz": 240
    },
    "id": "SjGtY-AXbC6M",
    "outputId": "f0de9314-48f1-4461-c0f1-4be43f96adbf"
   },
   "outputs": [
    {
     "name": "stdout",
     "output_type": "stream",
     "text": [
      "Model: \"model_3\"\n",
      "_________________________________________________________________\n",
      "Layer (type)                 Output Shape              Param #   \n",
      "=================================================================\n",
      "input_3 (InputLayer)         (None, 30)                0         \n",
      "_________________________________________________________________\n",
      "dense_5 (Dense)              (None, 512)               15872     \n",
      "_________________________________________________________________\n",
      "dropout_3 (Dropout)          (None, 512)               0         \n",
      "_________________________________________________________________\n",
      "dense_6 (Dense)              (None, 5)                 2565      \n",
      "=================================================================\n",
      "Total params: 18,437\n",
      "Trainable params: 18,437\n",
      "Non-trainable params: 0\n",
      "_________________________________________________________________\n"
     ]
    }
   ],
   "source": [
    "func_model.summary()"
   ]
  },
  {
   "cell_type": "code",
   "execution_count": 20,
   "metadata": {
    "colab": {
     "base_uri": "https://localhost:8080/",
     "height": 34
    },
    "colab_type": "code",
    "executionInfo": {
     "elapsed": 317,
     "status": "ok",
     "timestamp": 1587797946823,
     "user": {
      "displayName": "Dumitru Botnari",
      "photoUrl": "",
      "userId": "11679187678651940095"
     },
     "user_tz": 240
    },
    "id": "iVzrfzmtPzRL",
    "outputId": "bb3daa7a-b275-4cac-f609-424c7e10a066"
   },
   "outputs": [
    {
     "data": {
      "text/plain": [
       "(800, 30)"
      ]
     },
     "execution_count": 20,
     "metadata": {
      "tags": []
     },
     "output_type": "execute_result"
    }
   ],
   "source": [
    "X_test.shape"
   ]
  },
  {
   "cell_type": "code",
   "execution_count": 36,
   "metadata": {
    "colab": {
     "base_uri": "https://localhost:8080/",
     "height": 318
    },
    "colab_type": "code",
    "executionInfo": {
     "elapsed": 1581,
     "status": "ok",
     "timestamp": 1587798136785,
     "user": {
      "displayName": "Dumitru Botnari",
      "photoUrl": "",
      "userId": "11679187678651940095"
     },
     "user_tz": 240
    },
    "id": "sBWguoAEbERY",
    "outputId": "7ac9c6b6-32e8-43c4-f84c-4ea9f20e62ef"
   },
   "outputs": [
    {
     "name": "stdout",
     "output_type": "stream",
     "text": [
      "Train on 1920 samples, validate on 480 samples\n",
      "Epoch 1/50\n",
      "1920/1920 [==============================] - 0s 95us/step - loss: 0.4364 - accuracy: 0.8151 - val_loss: 0.8185 - val_accuracy: 0.7396\n",
      "Epoch 2/50\n",
      "1920/1920 [==============================] - 0s 94us/step - loss: 0.4123 - accuracy: 0.8302 - val_loss: 0.7226 - val_accuracy: 0.7458\n",
      "Epoch 3/50\n",
      "1920/1920 [==============================] - 0s 91us/step - loss: 0.4066 - accuracy: 0.8313 - val_loss: 0.7614 - val_accuracy: 0.7458\n",
      "Epoch 4/50\n",
      "1920/1920 [==============================] - 0s 89us/step - loss: 0.3984 - accuracy: 0.8365 - val_loss: 0.7727 - val_accuracy: 0.7625\n",
      "Epoch 5/50\n",
      "1920/1920 [==============================] - 0s 89us/step - loss: 0.3812 - accuracy: 0.8401 - val_loss: 0.7267 - val_accuracy: 0.7500\n",
      "Epoch 6/50\n",
      "1920/1920 [==============================] - 0s 88us/step - loss: 0.3829 - accuracy: 0.8391 - val_loss: 0.7392 - val_accuracy: 0.7458\n",
      "Epoch 7/50\n",
      "1920/1920 [==============================] - 0s 101us/step - loss: 0.3879 - accuracy: 0.8359 - val_loss: 0.7296 - val_accuracy: 0.7500\n",
      "\n",
      "Training time: 1.26 seconds\n"
     ]
    }
   ],
   "source": [
    "early_stopping_monitor = EarlyStopping(patience=3, monitor = 'val_accuracy')\n",
    "\n",
    "startTime = time.time()\n",
    "\n",
    "training = func_model.fit(X_train, y_train_cat, batch_size=32,\n",
    "          epochs=50, verbose=1, validation_split=0.2, callbacks = [early_stopping_monitor])\n",
    "\n",
    "endTime = time.time()\n",
    "\n",
    "history = training.history\n",
    "\n",
    "print ('\\nTraining time: %0.2f seconds' % (endTime - startTime))"
   ]
  },
  {
   "cell_type": "code",
   "execution_count": 22,
   "metadata": {
    "colab": {
     "base_uri": "https://localhost:8080/",
     "height": 278
    },
    "colab_type": "code",
    "executionInfo": {
     "elapsed": 330,
     "status": "ok",
     "timestamp": 1587797960938,
     "user": {
      "displayName": "Dumitru Botnari",
      "photoUrl": "",
      "userId": "11679187678651940095"
     },
     "user_tz": 240
    },
    "id": "EgBNt2FsXi3H",
    "outputId": "97aea8fe-52c4-4c74-e0c2-249e681d83ca"
   },
   "outputs": [
    {
     "data": {
      "image/png": "[encoded data removed]",
      "text/plain": [
       "<Figure size 432x288 with 1 Axes>"
      ]
     },
     "metadata": {
      "needs_background": "light",
      "tags": []
     },
     "output_type": "display_data"
    }
   ],
   "source": [
    "plt.figure(figsize=(6,4))\n",
    "\n",
    "plt.plot(history['accuracy'], label = 'training')\n",
    "# Plot the validation accuracy\n",
    "plt.plot(history['val_accuracy'], label = 'validation')\n",
    "\n",
    "plt.xlabel('Epochs')\n",
    "plt.ylabel('Accuracy')\n",
    "\n",
    "\n",
    "# Show the figure\n",
    "plt.legend()\n",
    "plt.show()"
   ]
  },
  {
   "cell_type": "code",
   "execution_count": 23,
   "metadata": {
    "colab": {
     "base_uri": "https://localhost:8080/",
     "height": 52
    },
    "colab_type": "code",
    "executionInfo": {
     "elapsed": 310,
     "status": "ok",
     "timestamp": 1587797964976,
     "user": {
      "displayName": "Dumitru Botnari",
      "photoUrl": "",
      "userId": "11679187678651940095"
     },
     "user_tz": 240
    },
    "id": "F2knPbv4TiBU",
    "outputId": "bcffe7cf-734e-44d3-d34f-d3cfa6cd8881"
   },
   "outputs": [
    {
     "name": "stdout",
     "output_type": "stream",
     "text": [
      "800/800 [==============================] - 0s 34us/step\n",
      "Test accuracy: 0.63250\n"
     ]
    }
   ],
   "source": [
    "score = func_model.evaluate(X_test, y_test_cat,\n",
    "                       batch_size=64, verbose=1)\n",
    "print('Test accuracy: %0.5f' % score[1])"
   ]
  },
  {
   "cell_type": "code",
   "execution_count": 37,
   "metadata": {
    "colab": {
     "base_uri": "https://localhost:8080/",
     "height": 194
    },
    "colab_type": "code",
    "executionInfo": {
     "elapsed": 293,
     "status": "ok",
     "timestamp": 1587798142635,
     "user": {
      "displayName": "Dumitru Botnari",
      "photoUrl": "",
      "userId": "11679187678651940095"
     },
     "user_tz": 240
    },
    "id": "vQx1ZKyLuBgE",
    "outputId": "ee53babf-f592-417a-a2f5-b42c486d2ea0"
   },
   "outputs": [
    {
     "name": "stdout",
     "output_type": "stream",
     "text": [
      "Accuracy: 0.75625\n",
      "F1 score: 0.75625\n",
      "Cohen`s kappa score: 0.66801\n",
      "\n",
      "Confusion matrix:\n"
     ]
    },
    {
     "data": {
      "text/plain": [
       "array([[246,  38,   4,   0,   0],\n",
       "       [ 33,  96,  35,   0,   0],\n",
       "       [  9,  43, 140,  18,   0],\n",
       "       [  0,   1,  12, 117,   0],\n",
       "       [  0,   0,   0,   2,   6]])"
      ]
     },
     "execution_count": 37,
     "metadata": {
      "tags": []
     },
     "output_type": "execute_result"
    }
   ],
   "source": [
    "from sklearn.metrics import confusion_matrix, precision_score, recall_score, f1_score, cohen_kappa_score, accuracy_score\n",
    "import numpy as np\n",
    "\n",
    "y_pred = np.argmax(func_model.predict(X_test), axis=1)\n",
    "\n",
    "print('Accuracy: %0.5f' % accuracy_score(y_test, y_pred))\n",
    "print('F1 score: %0.5f' % f1_score(y_test, y_pred, average='micro'))\n",
    "print('Cohen`s kappa score: %0.5f' % cohen_kappa_score(y_test, y_pred))\n",
    "print('\\nConfusion matrix:')\n",
    "confusion_matrix(y_test, y_pred)"
   ]
  },
  {
   "cell_type": "code",
   "execution_count": 0,
   "metadata": {
    "colab": {},
    "colab_type": "code",
    "id": "VOZDnirsw979"
   },
   "outputs": [],
   "source": []
  }
 ],
 "metadata": {
  "accelerator": "GPU",
  "colab": {
   "collapsed_sections": [],
   "name": "Capstone.ipynb",
   "provenance": [
    {
     "file_id": "19Va6Lcf-7IIytmrYdRVq-7VZVek3DRK8",
     "timestamp": 1587779407806
    },
    {
     "file_id": "https://github.com/nrkfeller/YCBS_notes/blob/master/C7_hyperparameters_exercise.ipynb",
     "timestamp": 1561076356481
    }
   ]
  },
  "kernelspec": {
   "display_name": "Python 3",
   "language": "python",
   "name": "python3"
  },
  "language_info": {
   "codemirror_mode": {
    "name": "ipython",
    "version": 3
   },
   "file_extension": ".py",
   "mimetype": "text/x-python",
   "name": "python",
   "nbconvert_exporter": "python",
   "pygments_lexer": "ipython3",
   "version": "3.7.1"
  }
 },
 "nbformat": 4,
 "nbformat_minor": 1
}
