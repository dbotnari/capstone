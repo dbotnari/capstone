{
  "nbformat": 4,
  "nbformat_minor": 0,
  "metadata": {
    "colab": {
      "name": "Capstone.ipynb",
      "provenance": [],
      "collapsed_sections": []
    },
    "kernelspec": {
      "name": "python3",
      "display_name": "Python 3"
    },
    "accelerator": "GPU"
  },
  "cells": [
    {
      "cell_type": "code",
      "metadata": {
        "id": "ghdpaIwyO8lk",
        "colab_type": "code",
        "colab": {}
      },
      "source": [
        "import numpy as np\n",
        "import pandas as pd\n",
        "%matplotlib inline\n",
        "import matplotlib.pyplot as plt"
      ],
      "execution_count": 0,
      "outputs": []
    },
    {
      "cell_type": "code",
      "metadata": {
        "id": "jczVEZLKCCqD",
        "colab_type": "code",
        "outputId": "8b07eef6-1388-4e84-fa6b-3af706772780",
        "colab": {
          "base_uri": "https://localhost:8080/",
          "height": 326
        }
      },
      "source": [
        "!wget --no-check-certificate 'https://docs.google.com/uc?export=download&id=1hiNv1Tvp_RnKK-UBpa1yd4rai337Fs-4' -O '5-global.csv'"
      ],
      "execution_count": 2,
      "outputs": [
        {
          "output_type": "stream",
          "text": [
            "--2020-04-28 05:40:16--  https://docs.google.com/uc?export=download&id=1hiNv1Tvp_RnKK-UBpa1yd4rai337Fs-4\n",
            "Resolving docs.google.com (docs.google.com)... 173.194.217.138, 173.194.217.101, 173.194.217.139, ...\n",
            "Connecting to docs.google.com (docs.google.com)|173.194.217.138|:443... connected.\n",
            "HTTP request sent, awaiting response... 302 Moved Temporarily\n",
            "Location: https://doc-00-30-docs.googleusercontent.com/docs/securesc/ha0ro937gcuc7l7deffksulhg5h7mbp1/rs5voa4nrosenp37fricjaou7b8hkap0/1588052400000/11679187678651940095/*/1hiNv1Tvp_RnKK-UBpa1yd4rai337Fs-4?e=download [following]\n",
            "Warning: wildcards not supported in HTTP.\n",
            "--2020-04-28 05:40:17--  https://doc-00-30-docs.googleusercontent.com/docs/securesc/ha0ro937gcuc7l7deffksulhg5h7mbp1/rs5voa4nrosenp37fricjaou7b8hkap0/1588052400000/11679187678651940095/*/1hiNv1Tvp_RnKK-UBpa1yd4rai337Fs-4?e=download\n",
            "Resolving doc-00-30-docs.googleusercontent.com (doc-00-30-docs.googleusercontent.com)... 173.194.216.132, 2607:f8b0:400c:c12::84\n",
            "Connecting to doc-00-30-docs.googleusercontent.com (doc-00-30-docs.googleusercontent.com)|173.194.216.132|:443... connected.\n",
            "HTTP request sent, awaiting response... 200 OK\n",
            "Length: 386428 (377K) [text/csv]\n",
            "Saving to: ‘5-global.csv’\n",
            "\n",
            "5-global.csv        100%[===================>] 377.37K  --.-KB/s    in 0.003s  \n",
            "\n",
            "2020-04-28 05:40:17 (109 MB/s) - ‘5-global.csv’ saved [386428/386428]\n",
            "\n"
          ],
          "name": "stdout"
        }
      ]
    },
    {
      "cell_type": "code",
      "metadata": {
        "id": "tmh2ZeQHO8lm",
        "colab_type": "code",
        "colab": {}
      },
      "source": [
        "df = pd.read_csv('./5-global.csv')"
      ],
      "execution_count": 0,
      "outputs": []
    },
    {
      "cell_type": "code",
      "metadata": {
        "id": "0nFepZC0O8lo",
        "colab_type": "code",
        "outputId": "6cff8a97-5c10-4e9e-b0fa-777d21901dae",
        "colab": {
          "base_uri": "https://localhost:8080/",
          "height": 224
        }
      },
      "source": [
        "df.head()"
      ],
      "execution_count": 4,
      "outputs": [
        {
          "output_type": "execute_result",
          "data": {
            "text/html": [
              "<div>\n",
              "<style scoped>\n",
              "    .dataframe tbody tr th:only-of-type {\n",
              "        vertical-align: middle;\n",
              "    }\n",
              "\n",
              "    .dataframe tbody tr th {\n",
              "        vertical-align: top;\n",
              "    }\n",
              "\n",
              "    .dataframe thead th {\n",
              "        text-align: right;\n",
              "    }\n",
              "</style>\n",
              "<table border=\"1\" class=\"dataframe\">\n",
              "  <thead>\n",
              "    <tr style=\"text-align: right;\">\n",
              "      <th></th>\n",
              "      <th>MAP_ID</th>\n",
              "      <th>IN_JAN</th>\n",
              "      <th>IN_FEB</th>\n",
              "      <th>IN_MAR</th>\n",
              "      <th>IN_APR</th>\n",
              "      <th>IN_MAY</th>\n",
              "      <th>IN_JUN</th>\n",
              "      <th>IN_JUL</th>\n",
              "      <th>IN_AUG</th>\n",
              "      <th>IN_SEP</th>\n",
              "      <th>IN_OCT</th>\n",
              "      <th>IN_NOV</th>\n",
              "      <th>IN_DEC</th>\n",
              "      <th>DESC_ALERT</th>\n",
              "      <th>DESC_FIRE</th>\n",
              "      <th>DESC_OTHER</th>\n",
              "      <th>DESC_NEW</th>\n",
              "      <th>NB_UNITS</th>\n",
              "      <th>Median_NrIncidentsLastWeek</th>\n",
              "      <th>Median_NrIncidentsLastMonth</th>\n",
              "      <th>Median_NrCrimesLastWeek</th>\n",
              "      <th>Median_NrCrimesLastMonth</th>\n",
              "      <th>NB_PROPERTIES</th>\n",
              "      <th>FLOORS</th>\n",
              "      <th>HOUSINGS</th>\n",
              "      <th>YEAR_CONSTRUCTION</th>\n",
              "      <th>LAND_AREA</th>\n",
              "      <th>BUILDING_AREA</th>\n",
              "      <th>USAGE_LOGEMENT</th>\n",
              "      <th>CATEGORY_REGULAR</th>\n",
              "      <th>CATEGORY_CONDOMINIUM</th>\n",
              "      <th>RISK_ZONE_ID</th>\n",
              "    </tr>\n",
              "  </thead>\n",
              "  <tbody>\n",
              "    <tr>\n",
              "      <th>0</th>\n",
              "      <td>1-10</td>\n",
              "      <td>0.0</td>\n",
              "      <td>0.0</td>\n",
              "      <td>0.0</td>\n",
              "      <td>0.0</td>\n",
              "      <td>0.0</td>\n",
              "      <td>0.0</td>\n",
              "      <td>0.0</td>\n",
              "      <td>0.0</td>\n",
              "      <td>0.0</td>\n",
              "      <td>0.0</td>\n",
              "      <td>0.0</td>\n",
              "      <td>1.0</td>\n",
              "      <td>1.0</td>\n",
              "      <td>0.0</td>\n",
              "      <td>0.0</td>\n",
              "      <td>0.0</td>\n",
              "      <td>2.0</td>\n",
              "      <td>0.0</td>\n",
              "      <td>0.0</td>\n",
              "      <td>0.0</td>\n",
              "      <td>0.0</td>\n",
              "      <td>16</td>\n",
              "      <td>2.0</td>\n",
              "      <td>1.0</td>\n",
              "      <td>1956.0</td>\n",
              "      <td>445.0</td>\n",
              "      <td>230.0</td>\n",
              "      <td>0.813</td>\n",
              "      <td>0.813</td>\n",
              "      <td>0.188</td>\n",
              "      <td>1</td>\n",
              "    </tr>\n",
              "    <tr>\n",
              "      <th>1</th>\n",
              "      <td>1-11</td>\n",
              "      <td>0.0</td>\n",
              "      <td>0.0</td>\n",
              "      <td>0.1</td>\n",
              "      <td>0.0</td>\n",
              "      <td>0.1</td>\n",
              "      <td>0.3</td>\n",
              "      <td>0.3</td>\n",
              "      <td>0.0</td>\n",
              "      <td>0.1</td>\n",
              "      <td>0.0</td>\n",
              "      <td>0.0</td>\n",
              "      <td>0.1</td>\n",
              "      <td>0.9</td>\n",
              "      <td>0.1</td>\n",
              "      <td>0.0</td>\n",
              "      <td>0.0</td>\n",
              "      <td>4.0</td>\n",
              "      <td>0.0</td>\n",
              "      <td>0.0</td>\n",
              "      <td>0.0</td>\n",
              "      <td>0.0</td>\n",
              "      <td>18</td>\n",
              "      <td>2.0</td>\n",
              "      <td>1.0</td>\n",
              "      <td>1932.5</td>\n",
              "      <td>387.5</td>\n",
              "      <td>268.0</td>\n",
              "      <td>0.833</td>\n",
              "      <td>0.667</td>\n",
              "      <td>0.333</td>\n",
              "      <td>2</td>\n",
              "    </tr>\n",
              "    <tr>\n",
              "      <th>2</th>\n",
              "      <td>10-14</td>\n",
              "      <td>0.0</td>\n",
              "      <td>0.0</td>\n",
              "      <td>0.0</td>\n",
              "      <td>0.0</td>\n",
              "      <td>0.0</td>\n",
              "      <td>0.0</td>\n",
              "      <td>0.0</td>\n",
              "      <td>0.0</td>\n",
              "      <td>0.0</td>\n",
              "      <td>0.0</td>\n",
              "      <td>0.0</td>\n",
              "      <td>0.0</td>\n",
              "      <td>0.0</td>\n",
              "      <td>0.0</td>\n",
              "      <td>0.0</td>\n",
              "      <td>0.0</td>\n",
              "      <td>0.0</td>\n",
              "      <td>0.0</td>\n",
              "      <td>0.0</td>\n",
              "      <td>0.0</td>\n",
              "      <td>0.0</td>\n",
              "      <td>19</td>\n",
              "      <td>2.0</td>\n",
              "      <td>1.0</td>\n",
              "      <td>1973.0</td>\n",
              "      <td>1413.0</td>\n",
              "      <td>188.0</td>\n",
              "      <td>1.000</td>\n",
              "      <td>1.000</td>\n",
              "      <td>0.000</td>\n",
              "      <td>1</td>\n",
              "    </tr>\n",
              "    <tr>\n",
              "      <th>3</th>\n",
              "      <td>10-15</td>\n",
              "      <td>0.5</td>\n",
              "      <td>0.0</td>\n",
              "      <td>0.0</td>\n",
              "      <td>0.0</td>\n",
              "      <td>0.5</td>\n",
              "      <td>0.0</td>\n",
              "      <td>0.0</td>\n",
              "      <td>0.0</td>\n",
              "      <td>0.0</td>\n",
              "      <td>0.0</td>\n",
              "      <td>0.0</td>\n",
              "      <td>0.0</td>\n",
              "      <td>1.0</td>\n",
              "      <td>0.0</td>\n",
              "      <td>0.0</td>\n",
              "      <td>0.0</td>\n",
              "      <td>3.5</td>\n",
              "      <td>0.0</td>\n",
              "      <td>0.0</td>\n",
              "      <td>0.0</td>\n",
              "      <td>0.0</td>\n",
              "      <td>2</td>\n",
              "      <td>1.0</td>\n",
              "      <td>1.0</td>\n",
              "      <td>1981.5</td>\n",
              "      <td>11562.5</td>\n",
              "      <td>143.5</td>\n",
              "      <td>0.500</td>\n",
              "      <td>1.000</td>\n",
              "      <td>0.000</td>\n",
              "      <td>1</td>\n",
              "    </tr>\n",
              "    <tr>\n",
              "      <th>4</th>\n",
              "      <td>10-16</td>\n",
              "      <td>0.0</td>\n",
              "      <td>0.0</td>\n",
              "      <td>0.0</td>\n",
              "      <td>0.0</td>\n",
              "      <td>0.0</td>\n",
              "      <td>0.0</td>\n",
              "      <td>1.0</td>\n",
              "      <td>0.0</td>\n",
              "      <td>0.0</td>\n",
              "      <td>0.0</td>\n",
              "      <td>0.0</td>\n",
              "      <td>0.0</td>\n",
              "      <td>0.0</td>\n",
              "      <td>0.0</td>\n",
              "      <td>1.0</td>\n",
              "      <td>0.0</td>\n",
              "      <td>1.5</td>\n",
              "      <td>0.0</td>\n",
              "      <td>0.0</td>\n",
              "      <td>0.0</td>\n",
              "      <td>0.0</td>\n",
              "      <td>2</td>\n",
              "      <td>1.0</td>\n",
              "      <td>1.0</td>\n",
              "      <td>1975.5</td>\n",
              "      <td>63457.0</td>\n",
              "      <td>5989.5</td>\n",
              "      <td>0.000</td>\n",
              "      <td>1.000</td>\n",
              "      <td>0.000</td>\n",
              "      <td>1</td>\n",
              "    </tr>\n",
              "  </tbody>\n",
              "</table>\n",
              "</div>"
            ],
            "text/plain": [
              "  MAP_ID  IN_JAN  IN_FEB  ...  CATEGORY_REGULAR  CATEGORY_CONDOMINIUM  RISK_ZONE_ID\n",
              "0   1-10     0.0     0.0  ...             0.813                 0.188             1\n",
              "1   1-11     0.0     0.0  ...             0.667                 0.333             2\n",
              "2  10-14     0.0     0.0  ...             1.000                 0.000             1\n",
              "3  10-15     0.5     0.0  ...             1.000                 0.000             1\n",
              "4  10-16     0.0     0.0  ...             1.000                 0.000             1\n",
              "\n",
              "[5 rows x 32 columns]"
            ]
          },
          "metadata": {
            "tags": []
          },
          "execution_count": 4
        }
      ]
    },
    {
      "cell_type": "code",
      "metadata": {
        "id": "wokRIozNFkw7",
        "colab_type": "code",
        "outputId": "9eb935bc-78dd-40da-e7bf-00879555e491",
        "colab": {
          "base_uri": "https://localhost:8080/",
          "height": 34
        }
      },
      "source": [
        "df.shape[1]"
      ],
      "execution_count": 5,
      "outputs": [
        {
          "output_type": "execute_result",
          "data": {
            "text/plain": [
              "32"
            ]
          },
          "metadata": {
            "tags": []
          },
          "execution_count": 5
        }
      ]
    },
    {
      "cell_type": "code",
      "metadata": {
        "id": "fa9JIoz7FmNI",
        "colab_type": "code",
        "outputId": "4bb1a839-911c-4bea-cdb0-7633f63ecad6",
        "colab": {
          "base_uri": "https://localhost:8080/",
          "height": 34
        }
      },
      "source": [
        "df.shape[0]"
      ],
      "execution_count": 6,
      "outputs": [
        {
          "output_type": "execute_result",
          "data": {
            "text/plain": [
              "3200"
            ]
          },
          "metadata": {
            "tags": []
          },
          "execution_count": 6
        }
      ]
    },
    {
      "cell_type": "code",
      "metadata": {
        "id": "A7vTttYzO8ls",
        "colab_type": "code",
        "outputId": "ddd02818-8ca6-45be-8f1a-16aa8b16fae4",
        "colab": {
          "base_uri": "https://localhost:8080/",
          "height": 119
        }
      },
      "source": [
        "df['RISK_ZONE_ID'].value_counts()"
      ],
      "execution_count": 7,
      "outputs": [
        {
          "output_type": "execute_result",
          "data": {
            "text/plain": [
              "1    1169\n",
              "3     828\n",
              "2     658\n",
              "4     495\n",
              "5      50\n",
              "Name: RISK_ZONE_ID, dtype: int64"
            ]
          },
          "metadata": {
            "tags": []
          },
          "execution_count": 7
        }
      ]
    },
    {
      "cell_type": "code",
      "metadata": {
        "id": "Tg4GkneEISaa",
        "colab_type": "code",
        "outputId": "ef88a07f-19df-4259-89de-af9adb47d6ee",
        "colab": {
          "base_uri": "https://localhost:8080/",
          "height": 34
        }
      },
      "source": [
        "num_classes = df['RISK_ZONE_ID'].nunique()\n",
        "num_classes"
      ],
      "execution_count": 8,
      "outputs": [
        {
          "output_type": "execute_result",
          "data": {
            "text/plain": [
              "5"
            ]
          },
          "metadata": {
            "tags": []
          },
          "execution_count": 8
        }
      ]
    },
    {
      "cell_type": "code",
      "metadata": {
        "id": "GUG-nKsADlLX",
        "colab_type": "code",
        "colab": {}
      },
      "source": [
        "X = df.drop(['MAP_ID', 'RISK_ZONE_ID'], axis=1).values"
      ],
      "execution_count": 0,
      "outputs": []
    },
    {
      "cell_type": "code",
      "metadata": {
        "id": "wAYnjnocD3jG",
        "colab_type": "code",
        "colab": {}
      },
      "source": [
        "y = df.loc[:,'RISK_ZONE_ID'].values"
      ],
      "execution_count": 0,
      "outputs": []
    },
    {
      "cell_type": "code",
      "metadata": {
        "id": "J_3NnFHpSzwE",
        "colab_type": "code",
        "colab": {}
      },
      "source": [
        "y_norm = y-1"
      ],
      "execution_count": 0,
      "outputs": []
    },
    {
      "cell_type": "code",
      "metadata": {
        "id": "-AG9f2eAO8lz",
        "colab_type": "code",
        "colab": {}
      },
      "source": [
        "from sklearn.model_selection import train_test_split, cross_val_score\n",
        "\n",
        "from sklearn.preprocessing import scale\n",
        "X = scale(X)"
      ],
      "execution_count": 0,
      "outputs": []
    },
    {
      "cell_type": "code",
      "metadata": {
        "id": "7n-5hzBdaqHV",
        "colab_type": "code",
        "outputId": "0c390516-29e3-48bb-81d4-ebd003db3ba4",
        "colab": {
          "base_uri": "https://localhost:8080/",
          "height": 34
        }
      },
      "source": [
        "X.shape"
      ],
      "execution_count": 13,
      "outputs": [
        {
          "output_type": "execute_result",
          "data": {
            "text/plain": [
              "(3200, 30)"
            ]
          },
          "metadata": {
            "tags": []
          },
          "execution_count": 13
        }
      ]
    },
    {
      "cell_type": "code",
      "metadata": {
        "id": "MKHDSYSPF0OB",
        "colab_type": "code",
        "colab": {}
      },
      "source": [
        "X_train, X_test, y_train, y_test = train_test_split(X,y_norm,random_state=0)"
      ],
      "execution_count": 0,
      "outputs": []
    },
    {
      "cell_type": "code",
      "metadata": {
        "id": "xpLTHeXAF46v",
        "colab_type": "code",
        "outputId": "1b16b4b4-595d-45a7-e76d-6d8f7d9dbb14",
        "colab": {
          "base_uri": "https://localhost:8080/",
          "height": 34
        }
      },
      "source": [
        "X.shape, X_train.shape, X_test.shape, y_train.shape, y_test.shape"
      ],
      "execution_count": 15,
      "outputs": [
        {
          "output_type": "execute_result",
          "data": {
            "text/plain": [
              "((3200, 30), (2400, 30), (800, 30), (2400,), (800,))"
            ]
          },
          "metadata": {
            "tags": []
          },
          "execution_count": 15
        }
      ]
    },
    {
      "cell_type": "code",
      "metadata": {
        "id": "Hg-g8kWrRVyA",
        "colab_type": "code",
        "outputId": "deda9c46-3064-4770-c232-1fc094a71f13",
        "colab": {
          "base_uri": "https://localhost:8080/",
          "height": 34
        }
      },
      "source": [
        "from keras.utils import to_categorical\n",
        "\n",
        "y_train_cat = to_categorical(y_train, num_classes)\n",
        "y_test_cat = to_categorical(y_test, num_classes)"
      ],
      "execution_count": 16,
      "outputs": [
        {
          "output_type": "stream",
          "text": [
            "Using TensorFlow backend.\n"
          ],
          "name": "stderr"
        }
      ]
    },
    {
      "cell_type": "code",
      "metadata": {
        "id": "BPDyW_4JR-Tm",
        "colab_type": "code",
        "outputId": "ed8906ac-e20f-4cf9-ae06-c24ba1ad7cdc",
        "colab": {
          "base_uri": "https://localhost:8080/",
          "height": 34
        }
      },
      "source": [
        "X.shape, X_train.shape, X_test.shape, y_train_cat.shape, y_test_cat.shape"
      ],
      "execution_count": 17,
      "outputs": [
        {
          "output_type": "execute_result",
          "data": {
            "text/plain": [
              "((3200, 30), (2400, 30), (800, 30), (2400, 5), (800, 5))"
            ]
          },
          "metadata": {
            "tags": []
          },
          "execution_count": 17
        }
      ]
    },
    {
      "cell_type": "code",
      "metadata": {
        "id": "I_LGP-ScHSvq",
        "colab_type": "code",
        "colab": {}
      },
      "source": [
        "from keras.models import Sequential, Model\n",
        "from keras.layers import Dense, Activation, Dropout, Input\n",
        "from keras.callbacks import EarlyStopping\n",
        "from keras.optimizers import Adam, Adamax, Nadam, SGD, RMSprop, Adagrad, Adadelta\n",
        "import time\n",
        "\n",
        "inputs = Input(shape=(30,))\n",
        "\n",
        "x = Dense(512, activation='relu')(inputs)\n",
        "x = Dropout(0.5)(x)\n",
        "\n",
        "outputs = Dense(num_classes, activation='softmax')(x)\n",
        "\n",
        "func_model = Model(inputs, outputs)\n",
        "\n",
        "func_model.compile(loss='categorical_crossentropy',\n",
        "                    optimizer=Adam(lr=0.002),\n",
        "                    metrics=['accuracy'])"
      ],
      "execution_count": 0,
      "outputs": []
    },
    {
      "cell_type": "code",
      "metadata": {
        "id": "SjGtY-AXbC6M",
        "colab_type": "code",
        "outputId": "3f99a45f-0227-4237-8cb9-d876d11e0a12",
        "colab": {
          "base_uri": "https://localhost:8080/",
          "height": 289
        }
      },
      "source": [
        "func_model.summary()"
      ],
      "execution_count": 19,
      "outputs": [
        {
          "output_type": "stream",
          "text": [
            "Model: \"model_1\"\n",
            "_________________________________________________________________\n",
            "Layer (type)                 Output Shape              Param #   \n",
            "=================================================================\n",
            "input_1 (InputLayer)         (None, 30)                0         \n",
            "_________________________________________________________________\n",
            "dense_1 (Dense)              (None, 512)               15872     \n",
            "_________________________________________________________________\n",
            "dropout_1 (Dropout)          (None, 512)               0         \n",
            "_________________________________________________________________\n",
            "dense_2 (Dense)              (None, 5)                 2565      \n",
            "=================================================================\n",
            "Total params: 18,437\n",
            "Trainable params: 18,437\n",
            "Non-trainable params: 0\n",
            "_________________________________________________________________\n"
          ],
          "name": "stdout"
        }
      ]
    },
    {
      "cell_type": "code",
      "metadata": {
        "id": "iVzrfzmtPzRL",
        "colab_type": "code",
        "outputId": "6ead1d45-3271-4c2b-8cba-ed8d38e76ec5",
        "colab": {
          "base_uri": "https://localhost:8080/",
          "height": 34
        }
      },
      "source": [
        "X_test.shape"
      ],
      "execution_count": 20,
      "outputs": [
        {
          "output_type": "execute_result",
          "data": {
            "text/plain": [
              "(800, 30)"
            ]
          },
          "metadata": {
            "tags": []
          },
          "execution_count": 20
        }
      ]
    },
    {
      "cell_type": "code",
      "metadata": {
        "id": "sBWguoAEbERY",
        "colab_type": "code",
        "outputId": "9d25afee-6677-4b47-f2ec-336aeaf33e04",
        "colab": {
          "base_uri": "https://localhost:8080/",
          "height": 510
        }
      },
      "source": [
        "early_stopping_monitor = EarlyStopping(patience=3, monitor = 'val_accuracy')\n",
        "\n",
        "startTime = time.time()\n",
        "\n",
        "training = func_model.fit(X_train, y_train_cat, batch_size=32,\n",
        "          epochs=50, verbose=1, validation_split=0.2, callbacks = [early_stopping_monitor])\n",
        "\n",
        "endTime = time.time()\n",
        "\n",
        "history = training.history\n",
        "\n",
        "print ('\\nTraining time: %0.2f seconds' % (endTime - startTime))"
      ],
      "execution_count": 21,
      "outputs": [
        {
          "output_type": "stream",
          "text": [
            "Train on 1920 samples, validate on 480 samples\n",
            "Epoch 1/50\n",
            "1920/1920 [==============================] - 2s 1ms/step - loss: 1.0140 - accuracy: 0.5531 - val_loss: 0.8347 - val_accuracy: 0.7063\n",
            "Epoch 2/50\n",
            "1920/1920 [==============================] - 0s 134us/step - loss: 0.7425 - accuracy: 0.6865 - val_loss: 0.7302 - val_accuracy: 0.7292\n",
            "Epoch 3/50\n",
            "1920/1920 [==============================] - 0s 126us/step - loss: 0.6601 - accuracy: 0.7089 - val_loss: 0.7065 - val_accuracy: 0.7312\n",
            "Epoch 4/50\n",
            "1920/1920 [==============================] - 0s 127us/step - loss: 0.5976 - accuracy: 0.7557 - val_loss: 0.6825 - val_accuracy: 0.7312\n",
            "Epoch 5/50\n",
            "1920/1920 [==============================] - 0s 134us/step - loss: 0.5632 - accuracy: 0.7604 - val_loss: 0.6680 - val_accuracy: 0.7396\n",
            "Epoch 6/50\n",
            "1920/1920 [==============================] - 0s 134us/step - loss: 0.5292 - accuracy: 0.7698 - val_loss: 0.6685 - val_accuracy: 0.7437\n",
            "Epoch 7/50\n",
            "1920/1920 [==============================] - 0s 129us/step - loss: 0.5119 - accuracy: 0.7818 - val_loss: 0.6670 - val_accuracy: 0.7417\n",
            "Epoch 8/50\n",
            "1920/1920 [==============================] - 0s 136us/step - loss: 0.5008 - accuracy: 0.7818 - val_loss: 0.7102 - val_accuracy: 0.7479\n",
            "Epoch 9/50\n",
            "1920/1920 [==============================] - 0s 133us/step - loss: 0.4876 - accuracy: 0.7849 - val_loss: 0.6745 - val_accuracy: 0.7437\n",
            "Epoch 10/50\n",
            "1920/1920 [==============================] - 0s 127us/step - loss: 0.4654 - accuracy: 0.8042 - val_loss: 0.6822 - val_accuracy: 0.7542\n",
            "Epoch 11/50\n",
            "1920/1920 [==============================] - 0s 132us/step - loss: 0.4611 - accuracy: 0.8010 - val_loss: 0.6780 - val_accuracy: 0.7521\n",
            "Epoch 12/50\n",
            "1920/1920 [==============================] - 0s 127us/step - loss: 0.4482 - accuracy: 0.8141 - val_loss: 0.6702 - val_accuracy: 0.7396\n",
            "Epoch 13/50\n",
            "1920/1920 [==============================] - 0s 135us/step - loss: 0.4427 - accuracy: 0.8125 - val_loss: 0.6735 - val_accuracy: 0.7479\n",
            "\n",
            "Training time: 5.59 seconds\n"
          ],
          "name": "stdout"
        }
      ]
    },
    {
      "cell_type": "code",
      "metadata": {
        "id": "EgBNt2FsXi3H",
        "colab_type": "code",
        "outputId": "deba69b2-5e80-4b64-e71e-fe0666240456",
        "colab": {
          "base_uri": "https://localhost:8080/",
          "height": 279
        }
      },
      "source": [
        "plt.figure(figsize=(6,4))\n",
        "\n",
        "plt.plot(history['accuracy'], label = 'training')\n",
        "# Plot the validation accuracy\n",
        "plt.plot(history['val_accuracy'], label = 'validation')\n",
        "\n",
        "plt.xlabel('Epochs')\n",
        "plt.ylabel('Accuracy')\n",
        "\n",
        "\n",
        "# Show the figure\n",
        "plt.legend()\n",
        "plt.show()"
      ],
      "execution_count": 22,
      "outputs": [
        {
          "output_type": "display_data",
          "data": {
            "image/png": "[encoded data removed]",
            "text/plain": [
              "<Figure size 432x288 with 1 Axes>"
            ]
          },
          "metadata": {
            "tags": [],
            "needs_background": "light"
          }
        }
      ]
    },
    {
      "cell_type": "code",
      "metadata": {
        "id": "F2knPbv4TiBU",
        "colab_type": "code",
        "outputId": "c50cff32-d60a-4265-e58d-e5ad74f43a14",
        "colab": {
          "base_uri": "https://localhost:8080/",
          "height": 51
        }
      },
      "source": [
        "score = func_model.evaluate(X_test, y_test_cat,\n",
        "                       batch_size=64, verbose=1)\n",
        "print('Test accuracy: %0.5f' % score[1])"
      ],
      "execution_count": 23,
      "outputs": [
        {
          "output_type": "stream",
          "text": [
            "800/800 [==============================] - 0s 40us/step\n",
            "Test accuracy: 0.75750\n"
          ],
          "name": "stdout"
        }
      ]
    },
    {
      "cell_type": "code",
      "metadata": {
        "id": "vQx1ZKyLuBgE",
        "colab_type": "code",
        "outputId": "2c64cdd3-dec2-4498-b03c-30e11239eba5",
        "colab": {
          "base_uri": "https://localhost:8080/",
          "height": 187
        }
      },
      "source": [
        "from sklearn.metrics import confusion_matrix, precision_score, recall_score, f1_score, cohen_kappa_score, accuracy_score\n",
        "import numpy as np\n",
        "\n",
        "y_pred = np.argmax(func_model.predict(X_test), axis=1)\n",
        "\n",
        "print('Accuracy: %0.5f' % accuracy_score(y_test, y_pred))\n",
        "print('F1 score: %0.5f' % f1_score(y_test, y_pred, average='micro'))\n",
        "print('Cohen`s kappa score: %0.5f' % cohen_kappa_score(y_test, y_pred))\n",
        "print('\\nConfusion matrix:')\n",
        "confusion_matrix(y_test, y_pred)"
      ],
      "execution_count": 24,
      "outputs": [
        {
          "output_type": "stream",
          "text": [
            "Accuracy: 0.75750\n",
            "F1 score: 0.75750\n",
            "Cohen`s kappa score: 0.67014\n",
            "\n",
            "Confusion matrix:\n"
          ],
          "name": "stdout"
        },
        {
          "output_type": "execute_result",
          "data": {
            "text/plain": [
              "array([[241,  39,   7,   1,   0],\n",
              "       [ 33,  96,  34,   1,   0],\n",
              "       [  7,  38, 146,  19,   0],\n",
              "       [  0,   1,  12, 117,   0],\n",
              "       [  0,   0,   0,   2,   6]])"
            ]
          },
          "metadata": {
            "tags": []
          },
          "execution_count": 24
        }
      ]
    },
    {
      "cell_type": "code",
      "metadata": {
        "id": "VOZDnirsw979",
        "colab_type": "code",
        "colab": {}
      },
      "source": [
        ""
      ],
      "execution_count": 0,
      "outputs": []
    }
  ]
}