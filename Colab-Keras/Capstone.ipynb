{
  "nbformat": 4,
  "nbformat_minor": 0,
  "metadata": {
    "colab": {
      "name": "Capstone.ipynb",
      "provenance": [],
      "collapsed_sections": []
    },
    "kernelspec": {
      "name": "python3",
      "display_name": "Python 3"
    },
    "accelerator": "GPU"
  },
  "cells": [
    {
      "cell_type": "code",
      "metadata": {
        "id": "ghdpaIwyO8lk",
        "colab_type": "code",
        "colab": {}
      },
      "source": [
        "import numpy as np\n",
        "import pandas as pd\n",
        "%matplotlib inline\n",
        "import matplotlib.pyplot as plt"
      ],
      "execution_count": 0,
      "outputs": []
    },
    {
      "cell_type": "code",
      "metadata": {
        "id": "jczVEZLKCCqD",
        "colab_type": "code",
        "outputId": "596c7896-fde7-4546-d4ac-a2bc93166acd",
        "colab": {
          "base_uri": "https://localhost:8080/",
          "height": 326
        }
      },
      "source": [
        "!wget --no-check-certificate 'https://docs.google.com/uc?export=download&id=1dzj5HlFSOrWJL4gX_RaQf7T4PcZk8WRP' -O 'global-forecast-2.csv'"
      ],
      "execution_count": 2,
      "outputs": [
        {
          "output_type": "stream",
          "text": [
            "--2020-05-09 06:00:23--  https://docs.google.com/uc?export=download&id=1dzj5HlFSOrWJL4gX_RaQf7T4PcZk8WRP\n",
            "Resolving docs.google.com (docs.google.com)... 173.194.76.100, 173.194.76.102, 173.194.76.138, ...\n",
            "Connecting to docs.google.com (docs.google.com)|173.194.76.100|:443... connected.\n",
            "HTTP request sent, awaiting response... 302 Moved Temporarily\n",
            "Location: https://doc-14-3k-docs.googleusercontent.com/docs/securesc/ha0ro937gcuc7l7deffksulhg5h7mbp1/fn27rdponld6fjoji2odrfhmjf93fpg3/1589004000000/05025234699203190086/*/1dzj5HlFSOrWJL4gX_RaQf7T4PcZk8WRP?e=download [following]\n",
            "Warning: wildcards not supported in HTTP.\n",
            "--2020-05-09 06:00:23--  https://doc-14-3k-docs.googleusercontent.com/docs/securesc/ha0ro937gcuc7l7deffksulhg5h7mbp1/fn27rdponld6fjoji2odrfhmjf93fpg3/1589004000000/05025234699203190086/*/1dzj5HlFSOrWJL4gX_RaQf7T4PcZk8WRP?e=download\n",
            "Resolving doc-14-3k-docs.googleusercontent.com (doc-14-3k-docs.googleusercontent.com)... 173.194.76.132, 2a00:1450:400c:c00::84\n",
            "Connecting to doc-14-3k-docs.googleusercontent.com (doc-14-3k-docs.googleusercontent.com)|173.194.76.132|:443... connected.\n",
            "HTTP request sent, awaiting response... 200 OK\n",
            "Length: 1553371 (1.5M) [text/csv]\n",
            "Saving to: ‘global-forecast-2.csv’\n",
            "\n",
            "\rglobal-forecast-2.c   0%[                    ]       0  --.-KB/s               \rglobal-forecast-2.c 100%[===================>]   1.48M  --.-KB/s    in 0.02s   \n",
            "\n",
            "2020-05-09 06:00:24 (63.1 MB/s) - ‘global-forecast-2.csv’ saved [1553371/1553371]\n",
            "\n"
          ],
          "name": "stdout"
        }
      ]
    },
    {
      "cell_type": "code",
      "metadata": {
        "id": "tmh2ZeQHO8lm",
        "colab_type": "code",
        "colab": {}
      },
      "source": [
        "df = pd.read_csv('./global-forecast-2.csv')"
      ],
      "execution_count": 0,
      "outputs": []
    },
    {
      "cell_type": "code",
      "metadata": {
        "id": "0nFepZC0O8lo",
        "colab_type": "code",
        "outputId": "b494b1a8-af5d-4a0d-9599-0a88623020be",
        "colab": {
          "base_uri": "https://localhost:8080/",
          "height": 224
        }
      },
      "source": [
        "df.head()"
      ],
      "execution_count": 4,
      "outputs": [
        {
          "output_type": "execute_result",
          "data": {
            "text/html": [
              "<div>\n",
              "<style scoped>\n",
              "    .dataframe tbody tr th:only-of-type {\n",
              "        vertical-align: middle;\n",
              "    }\n",
              "\n",
              "    .dataframe tbody tr th {\n",
              "        vertical-align: top;\n",
              "    }\n",
              "\n",
              "    .dataframe thead th {\n",
              "        text-align: right;\n",
              "    }\n",
              "</style>\n",
              "<table border=\"1\" class=\"dataframe\">\n",
              "  <thead>\n",
              "    <tr style=\"text-align: right;\">\n",
              "      <th></th>\n",
              "      <th>MAP_ID</th>\n",
              "      <th>MONTH</th>\n",
              "      <th>MONTH_SIN</th>\n",
              "      <th>MONTH_COS</th>\n",
              "      <th>Median_NrIncidentsLastWeekPast</th>\n",
              "      <th>Median_NrIncidentsLastMonthPast</th>\n",
              "      <th>Median_NrCrimesLastWeekPast</th>\n",
              "      <th>Median_NrCrimesLastMonthPast</th>\n",
              "      <th>NB_PROPERTIES</th>\n",
              "      <th>FLOORS</th>\n",
              "      <th>HOUSINGS</th>\n",
              "      <th>YEAR_CONSTRUCTION</th>\n",
              "      <th>LAND_AREA</th>\n",
              "      <th>BUILDING_AREA</th>\n",
              "      <th>USAGE_LOGEMENT</th>\n",
              "      <th>CATEGORY_REGULAR</th>\n",
              "      <th>CATEGORY_CONDOMINIUM</th>\n",
              "      <th>RISK_ZONE_ID</th>\n",
              "    </tr>\n",
              "  </thead>\n",
              "  <tbody>\n",
              "    <tr>\n",
              "      <th>0</th>\n",
              "      <td>1-10</td>\n",
              "      <td>12</td>\n",
              "      <td>0.0</td>\n",
              "      <td>1.000</td>\n",
              "      <td>0.0</td>\n",
              "      <td>0.0</td>\n",
              "      <td>0.0</td>\n",
              "      <td>0.0</td>\n",
              "      <td>16</td>\n",
              "      <td>2.0</td>\n",
              "      <td>1.0</td>\n",
              "      <td>1956.0</td>\n",
              "      <td>445.0</td>\n",
              "      <td>230.0</td>\n",
              "      <td>0.813</td>\n",
              "      <td>0.813</td>\n",
              "      <td>0.188</td>\n",
              "      <td>1</td>\n",
              "    </tr>\n",
              "    <tr>\n",
              "      <th>1</th>\n",
              "      <td>1-11</td>\n",
              "      <td>12</td>\n",
              "      <td>0.0</td>\n",
              "      <td>1.000</td>\n",
              "      <td>0.0</td>\n",
              "      <td>0.0</td>\n",
              "      <td>0.0</td>\n",
              "      <td>0.0</td>\n",
              "      <td>18</td>\n",
              "      <td>2.0</td>\n",
              "      <td>1.0</td>\n",
              "      <td>1932.5</td>\n",
              "      <td>387.5</td>\n",
              "      <td>268.0</td>\n",
              "      <td>0.833</td>\n",
              "      <td>0.667</td>\n",
              "      <td>0.333</td>\n",
              "      <td>1</td>\n",
              "    </tr>\n",
              "    <tr>\n",
              "      <th>2</th>\n",
              "      <td>1-11</td>\n",
              "      <td>3</td>\n",
              "      <td>1.0</td>\n",
              "      <td>0.000</td>\n",
              "      <td>0.0</td>\n",
              "      <td>0.0</td>\n",
              "      <td>0.0</td>\n",
              "      <td>0.0</td>\n",
              "      <td>18</td>\n",
              "      <td>2.0</td>\n",
              "      <td>1.0</td>\n",
              "      <td>1932.5</td>\n",
              "      <td>387.5</td>\n",
              "      <td>268.0</td>\n",
              "      <td>0.833</td>\n",
              "      <td>0.667</td>\n",
              "      <td>0.333</td>\n",
              "      <td>1</td>\n",
              "    </tr>\n",
              "    <tr>\n",
              "      <th>3</th>\n",
              "      <td>1-11</td>\n",
              "      <td>5</td>\n",
              "      <td>0.5</td>\n",
              "      <td>-0.866</td>\n",
              "      <td>0.0</td>\n",
              "      <td>0.0</td>\n",
              "      <td>0.0</td>\n",
              "      <td>0.0</td>\n",
              "      <td>18</td>\n",
              "      <td>2.0</td>\n",
              "      <td>1.0</td>\n",
              "      <td>1932.5</td>\n",
              "      <td>387.5</td>\n",
              "      <td>268.0</td>\n",
              "      <td>0.833</td>\n",
              "      <td>0.667</td>\n",
              "      <td>0.333</td>\n",
              "      <td>1</td>\n",
              "    </tr>\n",
              "    <tr>\n",
              "      <th>4</th>\n",
              "      <td>1-11</td>\n",
              "      <td>6</td>\n",
              "      <td>0.0</td>\n",
              "      <td>-1.000</td>\n",
              "      <td>0.0</td>\n",
              "      <td>0.0</td>\n",
              "      <td>0.0</td>\n",
              "      <td>0.0</td>\n",
              "      <td>18</td>\n",
              "      <td>2.0</td>\n",
              "      <td>1.0</td>\n",
              "      <td>1932.5</td>\n",
              "      <td>387.5</td>\n",
              "      <td>268.0</td>\n",
              "      <td>0.833</td>\n",
              "      <td>0.667</td>\n",
              "      <td>0.333</td>\n",
              "      <td>2</td>\n",
              "    </tr>\n",
              "  </tbody>\n",
              "</table>\n",
              "</div>"
            ],
            "text/plain": [
              "  MAP_ID  MONTH  ...  CATEGORY_CONDOMINIUM  RISK_ZONE_ID\n",
              "0   1-10     12  ...                 0.188             1\n",
              "1   1-11     12  ...                 0.333             1\n",
              "2   1-11      3  ...                 0.333             1\n",
              "3   1-11      5  ...                 0.333             1\n",
              "4   1-11      6  ...                 0.333             2\n",
              "\n",
              "[5 rows x 18 columns]"
            ]
          },
          "metadata": {
            "tags": []
          },
          "execution_count": 4
        }
      ]
    },
    {
      "cell_type": "code",
      "metadata": {
        "id": "wokRIozNFkw7",
        "colab_type": "code",
        "outputId": "857201ae-fe5b-4383-85cb-02139827f872",
        "colab": {
          "base_uri": "https://localhost:8080/",
          "height": 34
        }
      },
      "source": [
        "df.shape[1]"
      ],
      "execution_count": 5,
      "outputs": [
        {
          "output_type": "execute_result",
          "data": {
            "text/plain": [
              "18"
            ]
          },
          "metadata": {
            "tags": []
          },
          "execution_count": 5
        }
      ]
    },
    {
      "cell_type": "code",
      "metadata": {
        "id": "fa9JIoz7FmNI",
        "colab_type": "code",
        "outputId": "b287d992-41cd-427c-b7a5-b2f026f36369",
        "colab": {
          "base_uri": "https://localhost:8080/",
          "height": 34
        }
      },
      "source": [
        "df.shape[0]"
      ],
      "execution_count": 6,
      "outputs": [
        {
          "output_type": "execute_result",
          "data": {
            "text/plain": [
              "24410"
            ]
          },
          "metadata": {
            "tags": []
          },
          "execution_count": 6
        }
      ]
    },
    {
      "cell_type": "code",
      "metadata": {
        "id": "A7vTttYzO8ls",
        "colab_type": "code",
        "outputId": "feef7369-f537-4618-969f-f93a1e0fd96f",
        "colab": {
          "base_uri": "https://localhost:8080/",
          "height": 119
        }
      },
      "source": [
        "df['RISK_ZONE_ID'].value_counts()"
      ],
      "execution_count": 7,
      "outputs": [
        {
          "output_type": "execute_result",
          "data": {
            "text/plain": [
              "2    8043\n",
              "1    7759\n",
              "3    5791\n",
              "4    2503\n",
              "5     314\n",
              "Name: RISK_ZONE_ID, dtype: int64"
            ]
          },
          "metadata": {
            "tags": []
          },
          "execution_count": 7
        }
      ]
    },
    {
      "cell_type": "code",
      "metadata": {
        "id": "Tg4GkneEISaa",
        "colab_type": "code",
        "outputId": "2153d6a4-ecf6-4ca3-ecc8-c8a408141773",
        "colab": {
          "base_uri": "https://localhost:8080/",
          "height": 34
        }
      },
      "source": [
        "num_classes = df['RISK_ZONE_ID'].nunique()\n",
        "num_classes"
      ],
      "execution_count": 8,
      "outputs": [
        {
          "output_type": "execute_result",
          "data": {
            "text/plain": [
              "5"
            ]
          },
          "metadata": {
            "tags": []
          },
          "execution_count": 8
        }
      ]
    },
    {
      "cell_type": "code",
      "metadata": {
        "id": "GUG-nKsADlLX",
        "colab_type": "code",
        "colab": {}
      },
      "source": [
        "X = df.drop(['MAP_ID', 'MONTH', 'RISK_ZONE_ID'], axis=1).values"
      ],
      "execution_count": 0,
      "outputs": []
    },
    {
      "cell_type": "code",
      "metadata": {
        "id": "wAYnjnocD3jG",
        "colab_type": "code",
        "colab": {}
      },
      "source": [
        "y = df.loc[:,'RISK_ZONE_ID'].values"
      ],
      "execution_count": 0,
      "outputs": []
    },
    {
      "cell_type": "code",
      "metadata": {
        "id": "J_3NnFHpSzwE",
        "colab_type": "code",
        "colab": {}
      },
      "source": [
        "y_norm = y-1"
      ],
      "execution_count": 0,
      "outputs": []
    },
    {
      "cell_type": "code",
      "metadata": {
        "id": "-AG9f2eAO8lz",
        "colab_type": "code",
        "colab": {}
      },
      "source": [
        "from sklearn.model_selection import train_test_split, cross_val_score\n",
        "\n",
        "from sklearn.preprocessing import scale\n",
        "X = scale(X)"
      ],
      "execution_count": 0,
      "outputs": []
    },
    {
      "cell_type": "code",
      "metadata": {
        "id": "7n-5hzBdaqHV",
        "colab_type": "code",
        "outputId": "79b68331-0ad4-4235-b15a-e71671fafd60",
        "colab": {
          "base_uri": "https://localhost:8080/",
          "height": 34
        }
      },
      "source": [
        "X.shape"
      ],
      "execution_count": 13,
      "outputs": [
        {
          "output_type": "execute_result",
          "data": {
            "text/plain": [
              "(24410, 15)"
            ]
          },
          "metadata": {
            "tags": []
          },
          "execution_count": 13
        }
      ]
    },
    {
      "cell_type": "code",
      "metadata": {
        "id": "MKHDSYSPF0OB",
        "colab_type": "code",
        "colab": {}
      },
      "source": [
        "X_train, X_test, y_train, y_test = train_test_split(X,y_norm,random_state=0)"
      ],
      "execution_count": 0,
      "outputs": []
    },
    {
      "cell_type": "code",
      "metadata": {
        "id": "xpLTHeXAF46v",
        "colab_type": "code",
        "outputId": "318a8354-cf45-4692-cd8f-213c58fa00ee",
        "colab": {
          "base_uri": "https://localhost:8080/",
          "height": 34
        }
      },
      "source": [
        "X.shape, X_train.shape, X_test.shape, y_train.shape, y_test.shape"
      ],
      "execution_count": 15,
      "outputs": [
        {
          "output_type": "execute_result",
          "data": {
            "text/plain": [
              "((24410, 15), (18307, 15), (6103, 15), (18307,), (6103,))"
            ]
          },
          "metadata": {
            "tags": []
          },
          "execution_count": 15
        }
      ]
    },
    {
      "cell_type": "code",
      "metadata": {
        "id": "Hg-g8kWrRVyA",
        "colab_type": "code",
        "outputId": "2e85747d-04b7-4da0-e12a-f30a719dd941",
        "colab": {
          "base_uri": "https://localhost:8080/",
          "height": 34
        }
      },
      "source": [
        "from keras.utils import to_categorical\n",
        "\n",
        "y_train_cat = to_categorical(y_train, num_classes)\n",
        "y_test_cat = to_categorical(y_test, num_classes)"
      ],
      "execution_count": 16,
      "outputs": [
        {
          "output_type": "stream",
          "text": [
            "Using TensorFlow backend.\n"
          ],
          "name": "stderr"
        }
      ]
    },
    {
      "cell_type": "code",
      "metadata": {
        "id": "BPDyW_4JR-Tm",
        "colab_type": "code",
        "outputId": "3ccb45e2-c856-4c71-efae-351f032aec90",
        "colab": {
          "base_uri": "https://localhost:8080/",
          "height": 34
        }
      },
      "source": [
        "X.shape, X_train.shape, X_test.shape, y_train_cat.shape, y_test_cat.shape"
      ],
      "execution_count": 17,
      "outputs": [
        {
          "output_type": "execute_result",
          "data": {
            "text/plain": [
              "((24410, 15), (18307, 15), (6103, 15), (18307, 5), (6103, 5))"
            ]
          },
          "metadata": {
            "tags": []
          },
          "execution_count": 17
        }
      ]
    },
    {
      "cell_type": "code",
      "metadata": {
        "id": "I_LGP-ScHSvq",
        "colab_type": "code",
        "colab": {}
      },
      "source": [
        "from keras.models import Sequential, Model\n",
        "from keras.layers import Dense, Activation, Dropout, Input\n",
        "from keras.callbacks import EarlyStopping\n",
        "from keras.optimizers import Adam, Adamax, Nadam, SGD, RMSprop, Adagrad, Adadelta\n",
        "import time\n",
        "\n",
        "inputs = Input(shape=(15,))\n",
        "\n",
        "x = Dense(512, activation='relu')(inputs)\n",
        "x = Dropout(0.4)(x)\n",
        "\n",
        "x = Dense(512, activation='relu')(x)\n",
        "x = Dropout(0.5)(x)\n",
        "\n",
        "outputs = Dense(num_classes, activation='softmax')(x)\n",
        "\n",
        "func_model = Model(inputs, outputs)\n",
        "\n",
        "func_model.compile(loss='categorical_crossentropy',\n",
        "                    optimizer=Adam(lr=0.002),\n",
        "                    metrics=['accuracy'])"
      ],
      "execution_count": 0,
      "outputs": []
    },
    {
      "cell_type": "code",
      "metadata": {
        "id": "SjGtY-AXbC6M",
        "colab_type": "code",
        "outputId": "cabc9089-4524-435a-fec6-874d14844f0d",
        "colab": {
          "base_uri": "https://localhost:8080/",
          "height": 357
        }
      },
      "source": [
        "func_model.summary()"
      ],
      "execution_count": 32,
      "outputs": [
        {
          "output_type": "stream",
          "text": [
            "Model: \"model_4\"\n",
            "_________________________________________________________________\n",
            "Layer (type)                 Output Shape              Param #   \n",
            "=================================================================\n",
            "input_4 (InputLayer)         (None, 15)                0         \n",
            "_________________________________________________________________\n",
            "dense_8 (Dense)              (None, 512)               8192      \n",
            "_________________________________________________________________\n",
            "dropout_5 (Dropout)          (None, 512)               0         \n",
            "_________________________________________________________________\n",
            "dense_9 (Dense)              (None, 512)               262656    \n",
            "_________________________________________________________________\n",
            "dropout_6 (Dropout)          (None, 512)               0         \n",
            "_________________________________________________________________\n",
            "dense_10 (Dense)             (None, 5)                 2565      \n",
            "=================================================================\n",
            "Total params: 273,413\n",
            "Trainable params: 273,413\n",
            "Non-trainable params: 0\n",
            "_________________________________________________________________\n"
          ],
          "name": "stdout"
        }
      ]
    },
    {
      "cell_type": "code",
      "metadata": {
        "id": "iVzrfzmtPzRL",
        "colab_type": "code",
        "outputId": "30049b2c-ac4f-4be1-fb7e-b516fffdf13b",
        "colab": {
          "base_uri": "https://localhost:8080/",
          "height": 34
        }
      },
      "source": [
        "X_test.shape"
      ],
      "execution_count": 33,
      "outputs": [
        {
          "output_type": "execute_result",
          "data": {
            "text/plain": [
              "(6103, 15)"
            ]
          },
          "metadata": {
            "tags": []
          },
          "execution_count": 33
        }
      ]
    },
    {
      "cell_type": "code",
      "metadata": {
        "id": "sBWguoAEbERY",
        "colab_type": "code",
        "outputId": "2d24ccd0-80cb-4bd5-d580-e6bc40bdac09",
        "colab": {
          "base_uri": "https://localhost:8080/",
          "height": 714
        }
      },
      "source": [
        "early_stopping_monitor = EarlyStopping(patience=5, monitor = 'val_accuracy')\n",
        "\n",
        "startTime = time.time()\n",
        "\n",
        "training = func_model.fit(X_train, y_train_cat, batch_size=32,\n",
        "          epochs=50, verbose=1, validation_split=0.2, callbacks = [early_stopping_monitor])\n",
        "\n",
        "endTime = time.time()\n",
        "\n",
        "history = training.history\n",
        "\n",
        "print ('\\nTraining time: %0.2f seconds' % (endTime - startTime))"
      ],
      "execution_count": 40,
      "outputs": [
        {
          "output_type": "stream",
          "text": [
            "Train on 14645 samples, validate on 3662 samples\n",
            "Epoch 1/50\n",
            "14645/14645 [==============================] - 2s 135us/step - loss: 1.0768 - accuracy: 0.5002 - val_loss: 1.0645 - val_accuracy: 0.4951\n",
            "Epoch 2/50\n",
            "14645/14645 [==============================] - 2s 136us/step - loss: 1.0704 - accuracy: 0.4957 - val_loss: 1.0611 - val_accuracy: 0.4853\n",
            "Epoch 3/50\n",
            "14645/14645 [==============================] - 2s 136us/step - loss: 1.0674 - accuracy: 0.4983 - val_loss: 1.0712 - val_accuracy: 0.4989\n",
            "Epoch 4/50\n",
            "14645/14645 [==============================] - 2s 135us/step - loss: 1.0631 - accuracy: 0.5045 - val_loss: 1.0550 - val_accuracy: 0.4959\n",
            "Epoch 5/50\n",
            "14645/14645 [==============================] - 2s 131us/step - loss: 1.0629 - accuracy: 0.5048 - val_loss: 1.0605 - val_accuracy: 0.4932\n",
            "Epoch 6/50\n",
            "14645/14645 [==============================] - 2s 137us/step - loss: 1.0634 - accuracy: 0.5016 - val_loss: 1.0490 - val_accuracy: 0.4962\n",
            "Epoch 7/50\n",
            "14645/14645 [==============================] - 2s 135us/step - loss: 1.0565 - accuracy: 0.5078 - val_loss: 1.0520 - val_accuracy: 0.4937\n",
            "Epoch 8/50\n",
            "14645/14645 [==============================] - 2s 132us/step - loss: 1.0566 - accuracy: 0.5079 - val_loss: 1.0559 - val_accuracy: 0.4995\n",
            "Epoch 9/50\n",
            "14645/14645 [==============================] - 2s 135us/step - loss: 1.0563 - accuracy: 0.5000 - val_loss: 1.0564 - val_accuracy: 0.4921\n",
            "Epoch 10/50\n",
            "14645/14645 [==============================] - 2s 136us/step - loss: 1.0523 - accuracy: 0.5066 - val_loss: 1.0499 - val_accuracy: 0.5035\n",
            "Epoch 11/50\n",
            "14645/14645 [==============================] - 2s 137us/step - loss: 1.0523 - accuracy: 0.5081 - val_loss: 1.0518 - val_accuracy: 0.4965\n",
            "Epoch 12/50\n",
            "14645/14645 [==============================] - 2s 136us/step - loss: 1.0486 - accuracy: 0.5053 - val_loss: 1.0562 - val_accuracy: 0.4954\n",
            "Epoch 13/50\n",
            "14645/14645 [==============================] - 2s 133us/step - loss: 1.0520 - accuracy: 0.5096 - val_loss: 1.0562 - val_accuracy: 0.4915\n",
            "Epoch 14/50\n",
            "14645/14645 [==============================] - 2s 136us/step - loss: 1.0490 - accuracy: 0.5079 - val_loss: 1.0529 - val_accuracy: 0.5112\n",
            "Epoch 15/50\n",
            "14645/14645 [==============================] - 2s 136us/step - loss: 1.0506 - accuracy: 0.5080 - val_loss: 1.0422 - val_accuracy: 0.5093\n",
            "Epoch 16/50\n",
            "14645/14645 [==============================] - 2s 133us/step - loss: 1.0472 - accuracy: 0.5116 - val_loss: 1.0579 - val_accuracy: 0.5016\n",
            "Epoch 17/50\n",
            "14645/14645 [==============================] - 2s 136us/step - loss: 1.0423 - accuracy: 0.5134 - val_loss: 1.0522 - val_accuracy: 0.4986\n",
            "Epoch 18/50\n",
            "14645/14645 [==============================] - 2s 138us/step - loss: 1.0430 - accuracy: 0.5138 - val_loss: 1.0562 - val_accuracy: 0.4926\n",
            "Epoch 19/50\n",
            "14645/14645 [==============================] - 2s 135us/step - loss: 1.0436 - accuracy: 0.5126 - val_loss: 1.0421 - val_accuracy: 0.5011\n",
            "\n",
            "Training time: 37.65 seconds\n"
          ],
          "name": "stdout"
        }
      ]
    },
    {
      "cell_type": "code",
      "metadata": {
        "id": "EgBNt2FsXi3H",
        "colab_type": "code",
        "outputId": "04e10f69-132f-4d52-f7f3-3f7e8ffc6c1a",
        "colab": {
          "base_uri": "https://localhost:8080/",
          "height": 282
        }
      },
      "source": [
        "plt.figure(figsize=(6,4))\n",
        "\n",
        "plt.plot(history['accuracy'], label = 'training')\n",
        "# Plot the validation accuracy\n",
        "plt.plot(history['val_accuracy'], label = 'validation')\n",
        "\n",
        "plt.xlabel('Epochs')\n",
        "plt.ylabel('Accuracy')\n",
        "\n",
        "\n",
        "# Show the figure\n",
        "plt.legend()\n",
        "plt.show()"
      ],
      "execution_count": 41,
      "outputs": [
        {
          "output_type": "display_data",
          "data": {
            "image/png": "[encoded data removed]",
            "text/plain": [
              "<Figure size 432x288 with 1 Axes>"
            ]
          },
          "metadata": {
            "tags": [],
            "needs_background": "light"
          }
        }
      ]
    },
    {
      "cell_type": "code",
      "metadata": {
        "id": "F2knPbv4TiBU",
        "colab_type": "code",
        "outputId": "d824a603-1ff3-4d02-ed6b-0c746d56ec65",
        "colab": {
          "base_uri": "https://localhost:8080/",
          "height": 51
        }
      },
      "source": [
        "score = func_model.evaluate(X_test, y_test_cat,\n",
        "                       batch_size=64, verbose=1)\n",
        "print('Test accuracy: %0.5f' % score[1])"
      ],
      "execution_count": 42,
      "outputs": [
        {
          "output_type": "stream",
          "text": [
            "6103/6103 [==============================] - 0s 37us/step\n",
            "Test accuracy: 0.51221\n"
          ],
          "name": "stdout"
        }
      ]
    },
    {
      "cell_type": "code",
      "metadata": {
        "id": "vQx1ZKyLuBgE",
        "colab_type": "code",
        "outputId": "62126f9e-d3e2-4826-9b25-3755d0821cc4",
        "colab": {
          "base_uri": "https://localhost:8080/",
          "height": 187
        }
      },
      "source": [
        "from sklearn.metrics import confusion_matrix, precision_score, recall_score, f1_score, cohen_kappa_score, accuracy_score\n",
        "import numpy as np\n",
        "\n",
        "y_pred = np.argmax(func_model.predict(X_test), axis=1)\n",
        "\n",
        "print('Accuracy: %0.5f' % accuracy_score(y_test, y_pred))\n",
        "print('F1 score: %0.5f' % f1_score(y_test, y_pred, average='micro'))\n",
        "print('Cohen`s kappa score: %0.5f' % cohen_kappa_score(y_test, y_pred))\n",
        "print('\\nConfusion matrix:')\n",
        "confusion_matrix(y_test, y_pred)"
      ],
      "execution_count": 43,
      "outputs": [
        {
          "output_type": "stream",
          "text": [
            "Accuracy: 0.51221\n",
            "F1 score: 0.51221\n",
            "Cohen`s kappa score: 0.31948\n",
            "\n",
            "Confusion matrix:\n"
          ],
          "name": "stdout"
        },
        {
          "output_type": "execute_result",
          "data": {
            "text/plain": [
              "array([[1550,  241,  109,   11,    0],\n",
              "       [ 945,  715,  358,   43,    0],\n",
              "       [ 366,  358,  573,  152,    1],\n",
              "       [  33,   66,  261,  234,    8],\n",
              "       [   0,    1,    1,   23,   54]])"
            ]
          },
          "metadata": {
            "tags": []
          },
          "execution_count": 43
        }
      ]
    },
    {
      "cell_type": "code",
      "metadata": {
        "id": "VOZDnirsw979",
        "colab_type": "code",
        "colab": {}
      },
      "source": [
        ""
      ],
      "execution_count": 0,
      "outputs": []
    }
  ]
}